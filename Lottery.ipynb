{
 "cells": [
  {
   "cell_type": "markdown",
   "metadata": {},
   "source": [
    "# Helping people with a lottery addiction\n",
    "\n",
    "Many people start playing the lottery for fun, but for some this activity turns into a habit which eventually escalates into addiction. Like other compulsive gamblers, lottery addicts soon begin spending from their savings and loans, they start to accumulate debts, and eventually engage in desperate behaviors like theft.\n",
    "\n",
    "A medical institute that aims to prevent and treat gambling addictions wants to build a dedicated mobile app to help lottery addicts better estimate their chances of winning. The institute has a team of engineers that will build the app, but they need us to create the logical core of the app and calculate probabilities.\n",
    "\n",
    "For the first version of the app, they want us to focus on the 6/49 lottery and build functions that enable users to answer questions like:\n",
    "\n",
    "* What is the probability of winning the big prize with a single ticket?\n",
    "* What is the probability of winning the big prize if we play 40 different tickets (or any other number)?\n",
    "* What is the probability of having at least five (or four, or three, or two) winning numbers on a single ticket?\n",
    "\n",
    "The institute also wants us to consider historical data coming from the national 6/49 lottery game in Canada. [The data set](https://www.kaggle.com/datascienceai/lottery-dataset) has data for 3,665 drawings, dating from 1982 to 2018 .\n",
    "\n",
    "The scenario we're following throughout this project is fictional — the main purpose is to practice applying the concepts we learned in a setting that simulates a real-world scenario."
   ]
  },
  {
   "cell_type": "code",
   "execution_count": 1,
   "metadata": {},
   "outputs": [],
   "source": [
    "import numpy as np\n",
    "import pandas as pd\n",
    "\n",
    "# Load code formatter\n",
    "#%load_ext nb_black"
   ]
  },
  {
   "cell_type": "markdown",
   "metadata": {},
   "source": [
    "## Defining a core functions"
   ]
  },
  {
   "cell_type": "markdown",
   "metadata": {},
   "source": [
    "Throughout the project, we'll need to calculate repeatedly probabilities and combinations. As a consequence, we'll start by writing two functions that we'll use often:\n",
    "\n",
    "* A function that calculates factorials; and\n",
    "* A function that calculates combinations."
   ]
  },
  {
   "cell_type": "code",
   "execution_count": 2,
   "metadata": {},
   "outputs": [],
   "source": [
    "# Define a function for factorial\n",
    "def factorial(n):\n",
    "    \"\"\"Takes as input a number n and computes the factorial of that number n.\"\"\"\n",
    "    final_product = 1\n",
    "    for i in range(n, 0, -1):\n",
    "        final_product *= i\n",
    "    return final_product\n",
    "\n",
    "\n",
    "# Define a function for combinations\n",
    "def combinations(n, k):\n",
    "    \"\"\"Returns the number of combinations when we're taking only k objects from a group of n objects.\"\"\"\n",
    "    return factorial(n) / (factorial(k) * factorial(n - k))"
   ]
  },
  {
   "cell_type": "markdown",
   "metadata": {},
   "source": [
    "## Calculating one-ticket winning probability"
   ]
  },
  {
   "cell_type": "markdown",
   "metadata": {},
   "source": [
    "In the 6/49 lottery, six numbers are drawn from a set of 49 numbers that range from 1 to 49. A player wins the big prize if the six numbers on their tickets match all the six numbers drawn. If a player has a ticket with the numbers {13, 22, 24, 27, 42, 44}, he only wins the big prize if the numbers drawn are {13, 22, 24, 27, 42, 44}. If only one number differs, he doesn't win.\n",
    "\n",
    "For the first version of the app, we want players to be able to calculate the probability of winning the big prize with the various numbers they play on a single ticket (for each ticket a player chooses six numbers out of 49). So, we'll start by building a function that calculates the probability of winning the big prize for any given ticket.\n",
    "\n",
    "The function should fulfill the following requirements:\n",
    "\n",
    "* Take the list of 6 elements.\n",
    "* Each of the elements should not bbe bigger than 49.\n",
    "* Calculate and return theone-ticket winning probability."
   ]
  },
  {
   "cell_type": "code",
   "execution_count": 3,
   "metadata": {},
   "outputs": [],
   "source": [
    "def one_ticket_probability(user_list):\n",
    "    \"\"\"Return the probability of winning the 6/49 lotto using 1 ticket\"\"\"\n",
    "    prob = 1 / combinations(49, 6)  # 6/49 lotto\n",
    "    for element in user_list:\n",
    "        if element > 49:\n",
    "            return \"All the values should be lower than 49. Please redefine your input\"\n",
    "    if len(user_list) != 6:\n",
    "        return \"Please enter 6 numbers. Not bigger, not less\"\n",
    "    return f\"The probability of your win is {prob*100:.5f} %. It means you can win once in {int(combinations(49, 6))} attempts \""
   ]
  },
  {
   "cell_type": "code",
   "execution_count": 4,
   "metadata": {},
   "outputs": [
    {
     "name": "stdout",
     "output_type": "stream",
     "text": [
      "[1, 2, 3, 4, 5, 23] The probability of your win is 0.00001 %. It means you can win once in 13983816 attempts \n",
      "[3, 6, 9] Please enter 6 numbers. Not bigger, not less\n",
      "[45, 21, 57, 19, 14, 22] All the values should be lower than 49. Please redefine your input\n"
     ]
    }
   ],
   "source": [
    "# Check the function\n",
    "trials = [[1, 2, 3, 4, 5, 23], [3, 6, 9], [45, 21, 57, 19, 14, 22]]\n",
    "for trial in trials:\n",
    "    print(trial, one_ticket_probability(trial))"
   ]
  },
  {
   "cell_type": "markdown",
   "metadata": {},
   "source": [
    "## Historical data check for Canada lottery"
   ]
  },
  {
   "cell_type": "markdown",
   "metadata": {},
   "source": [
    "For the first version of the app, however, users should also be able to compare their ticket against the historical lottery data in Canada and determine whether they would have ever won by now."
   ]
  },
  {
   "cell_type": "code",
   "execution_count": 5,
   "metadata": {},
   "outputs": [
    {
     "data": {
      "text/html": [
       "<div>\n",
       "<style scoped>\n",
       "    .dataframe tbody tr th:only-of-type {\n",
       "        vertical-align: middle;\n",
       "    }\n",
       "\n",
       "    .dataframe tbody tr th {\n",
       "        vertical-align: top;\n",
       "    }\n",
       "\n",
       "    .dataframe thead th {\n",
       "        text-align: right;\n",
       "    }\n",
       "</style>\n",
       "<table border=\"1\" class=\"dataframe\">\n",
       "  <thead>\n",
       "    <tr style=\"text-align: right;\">\n",
       "      <th></th>\n",
       "      <th>PRODUCT</th>\n",
       "      <th>DRAW NUMBER</th>\n",
       "      <th>SEQUENCE NUMBER</th>\n",
       "      <th>DRAW DATE</th>\n",
       "      <th>NUMBER DRAWN 1</th>\n",
       "      <th>NUMBER DRAWN 2</th>\n",
       "      <th>NUMBER DRAWN 3</th>\n",
       "      <th>NUMBER DRAWN 4</th>\n",
       "      <th>NUMBER DRAWN 5</th>\n",
       "      <th>NUMBER DRAWN 6</th>\n",
       "      <th>BONUS NUMBER</th>\n",
       "    </tr>\n",
       "  </thead>\n",
       "  <tbody>\n",
       "    <tr>\n",
       "      <th>0</th>\n",
       "      <td>649</td>\n",
       "      <td>1</td>\n",
       "      <td>0</td>\n",
       "      <td>6/12/1982</td>\n",
       "      <td>3</td>\n",
       "      <td>11</td>\n",
       "      <td>12</td>\n",
       "      <td>14</td>\n",
       "      <td>41</td>\n",
       "      <td>43</td>\n",
       "      <td>13</td>\n",
       "    </tr>\n",
       "    <tr>\n",
       "      <th>1</th>\n",
       "      <td>649</td>\n",
       "      <td>2</td>\n",
       "      <td>0</td>\n",
       "      <td>6/19/1982</td>\n",
       "      <td>8</td>\n",
       "      <td>33</td>\n",
       "      <td>36</td>\n",
       "      <td>37</td>\n",
       "      <td>39</td>\n",
       "      <td>41</td>\n",
       "      <td>9</td>\n",
       "    </tr>\n",
       "    <tr>\n",
       "      <th>2</th>\n",
       "      <td>649</td>\n",
       "      <td>3</td>\n",
       "      <td>0</td>\n",
       "      <td>6/26/1982</td>\n",
       "      <td>1</td>\n",
       "      <td>6</td>\n",
       "      <td>23</td>\n",
       "      <td>24</td>\n",
       "      <td>27</td>\n",
       "      <td>39</td>\n",
       "      <td>34</td>\n",
       "    </tr>\n",
       "    <tr>\n",
       "      <th>3</th>\n",
       "      <td>649</td>\n",
       "      <td>4</td>\n",
       "      <td>0</td>\n",
       "      <td>7/3/1982</td>\n",
       "      <td>3</td>\n",
       "      <td>9</td>\n",
       "      <td>10</td>\n",
       "      <td>13</td>\n",
       "      <td>20</td>\n",
       "      <td>43</td>\n",
       "      <td>34</td>\n",
       "    </tr>\n",
       "    <tr>\n",
       "      <th>4</th>\n",
       "      <td>649</td>\n",
       "      <td>5</td>\n",
       "      <td>0</td>\n",
       "      <td>7/10/1982</td>\n",
       "      <td>5</td>\n",
       "      <td>14</td>\n",
       "      <td>21</td>\n",
       "      <td>31</td>\n",
       "      <td>34</td>\n",
       "      <td>47</td>\n",
       "      <td>45</td>\n",
       "    </tr>\n",
       "  </tbody>\n",
       "</table>\n",
       "</div>"
      ],
      "text/plain": [
       "   PRODUCT  DRAW NUMBER  SEQUENCE NUMBER  DRAW DATE  NUMBER DRAWN 1  \\\n",
       "0      649            1                0  6/12/1982               3   \n",
       "1      649            2                0  6/19/1982               8   \n",
       "2      649            3                0  6/26/1982               1   \n",
       "3      649            4                0   7/3/1982               3   \n",
       "4      649            5                0  7/10/1982               5   \n",
       "\n",
       "   NUMBER DRAWN 2  NUMBER DRAWN 3  NUMBER DRAWN 4  NUMBER DRAWN 5  \\\n",
       "0              11              12              14              41   \n",
       "1              33              36              37              39   \n",
       "2               6              23              24              27   \n",
       "3               9              10              13              20   \n",
       "4              14              21              31              34   \n",
       "\n",
       "   NUMBER DRAWN 6  BONUS NUMBER  \n",
       "0              43            13  \n",
       "1              41             9  \n",
       "2              39            34  \n",
       "3              43            34  \n",
       "4              47            45  "
      ]
     },
     "execution_count": 5,
     "metadata": {},
     "output_type": "execute_result"
    }
   ],
   "source": [
    "lottery = pd.read_csv(\"649.csv\")\n",
    "lottery.head()"
   ]
  },
  {
   "cell_type": "code",
   "execution_count": 6,
   "metadata": {},
   "outputs": [
    {
     "name": "stdout",
     "output_type": "stream",
     "text": [
      "<class 'pandas.core.frame.DataFrame'>\n",
      "RangeIndex: 3665 entries, 0 to 3664\n",
      "Data columns (total 11 columns):\n",
      " #   Column           Non-Null Count  Dtype \n",
      "---  ------           --------------  ----- \n",
      " 0   PRODUCT          3665 non-null   int64 \n",
      " 1   DRAW NUMBER      3665 non-null   int64 \n",
      " 2   SEQUENCE NUMBER  3665 non-null   int64 \n",
      " 3   DRAW DATE        3665 non-null   object\n",
      " 4   NUMBER DRAWN 1   3665 non-null   int64 \n",
      " 5   NUMBER DRAWN 2   3665 non-null   int64 \n",
      " 6   NUMBER DRAWN 3   3665 non-null   int64 \n",
      " 7   NUMBER DRAWN 4   3665 non-null   int64 \n",
      " 8   NUMBER DRAWN 5   3665 non-null   int64 \n",
      " 9   NUMBER DRAWN 6   3665 non-null   int64 \n",
      " 10  BONUS NUMBER     3665 non-null   int64 \n",
      "dtypes: int64(10), object(1)\n",
      "memory usage: 315.1+ KB\n"
     ]
    }
   ],
   "source": [
    "lottery.info()"
   ]
  },
  {
   "cell_type": "markdown",
   "metadata": {},
   "source": [
    "The data set contains historical data for 3,665 drawings (each row shows data for a single drawing), dating from 1982 to 2018. For each drawing, we can find the six numbers drawn"
   ]
  },
  {
   "cell_type": "code",
   "execution_count": 7,
   "metadata": {},
   "outputs": [],
   "source": [
    "def extract_numbers(row):\n",
    "    \"\"\"Extracting winning number from a particular row of the dataset\"\"\"\n",
    "    row = row[4:10]\n",
    "    return set(row.values)"
   ]
  },
  {
   "cell_type": "code",
   "execution_count": 8,
   "metadata": {},
   "outputs": [
    {
     "data": {
      "text/plain": [
       "0    {3, 41, 11, 12, 43, 14}\n",
       "1    {33, 36, 37, 39, 8, 41}\n",
       "2     {1, 6, 39, 23, 24, 27}\n",
       "3     {3, 9, 10, 43, 13, 20}\n",
       "4    {34, 5, 14, 47, 21, 31}\n",
       "dtype: object"
      ]
     },
     "execution_count": 8,
     "metadata": {},
     "output_type": "execute_result"
    }
   ],
   "source": [
    "winning_numbers = lottery.apply(extract_numbers, axis=1)\n",
    "winning_numbers.head()"
   ]
  },
  {
   "cell_type": "code",
   "execution_count": 9,
   "metadata": {},
   "outputs": [],
   "source": [
    "def check_historical_occurence(user_list, winning_numbers):\n",
    "    \"\"\"Return the information about the number of times the combination inputted by the user occurred in the past.\"\"\"\n",
    "    user_set = set(user_list)\n",
    "    occurences = 0\n",
    "    for winning_set in winning_numbers:\n",
    "        if user_set == winning_set:\n",
    "            occurences += 1\n",
    "    return (\n",
    "        f\"Your combination occured {occurences} time[s] in the last 36 years.\",\n",
    "        one_ticket_probability(user_list),\n",
    "    )"
   ]
  },
  {
   "cell_type": "code",
   "execution_count": 10,
   "metadata": {},
   "outputs": [
    {
     "name": "stdout",
     "output_type": "stream",
     "text": [
      "trial 0: \n",
      " [1, 2, 3, 4, 5, 23] \n",
      " ('Your combination occured 0 time[s] in the last 36 years.', 'The probability of your win is 0.00001 %. It means you can win once in 13983816 attempts ') \n",
      "\n",
      "trial 1: \n",
      " [3, 41, 11, 12, 43, 14] \n",
      " ('Your combination occured 1 time[s] in the last 36 years.', 'The probability of your win is 0.00001 %. It means you can win once in 13983816 attempts ') \n",
      "\n",
      "trial 2: \n",
      " [45, 21, 57, 19, 14, 22] \n",
      " ('Your combination occured 0 time[s] in the last 36 years.', 'All the values should be lower than 49. Please redefine your input') \n",
      "\n"
     ]
    }
   ],
   "source": [
    "# Check the function\n",
    "trials_hist = [[1, 2, 3, 4, 5, 23], [3, 41, 11, 12, 43, 14], [45, 21, 57, 19, 14, 22]]\n",
    "for i, trial in enumerate(trials_hist):\n",
    "    print(\n",
    "        f\"trial {i}:\",\n",
    "        \"\\n\",\n",
    "        trial,\n",
    "        \"\\n\",\n",
    "        check_historical_occurence(trial, winning_numbers),\n",
    "        \"\\n\",\n",
    "    )"
   ]
  },
  {
   "cell_type": "markdown",
   "metadata": {},
   "source": [
    "## Calculating multi-ticket winning probability"
   ]
  },
  {
   "cell_type": "markdown",
   "metadata": {},
   "source": [
    "Lottery addicts usually play more than one ticket on a single drawing, thinking that this might increase their chances of winning significantly. Our purpose is to help them better estimate their chances of winning"
   ]
  },
  {
   "cell_type": "code",
   "execution_count": 11,
   "metadata": {},
   "outputs": [],
   "source": [
    "def multi_ticket_probability(tickets):\n",
    "    \"\"\"Returns probability of winning the jackpot given the number of tickets bought.\"\"\"\n",
    "    prob = tickets / combinations(49, 6)\n",
    "    if tickets > combinations(49, 6):\n",
    "        return \"You can't buy more tickets that are available.\"\n",
    "    if prob < 0.01:\n",
    "        return f\"The probability of your win is {prob*100:.5f} %. It means you can win once in {round(combinations(49, 6)/tickets)} attempts \"\n",
    "    elif prob >= 0.01:\n",
    "        return f\"The probability of your win is {prob*100:.2f} %. Are you sure you going to spend so much money on lottery tickets?\""
   ]
  },
  {
   "cell_type": "code",
   "execution_count": 12,
   "metadata": {},
   "outputs": [
    {
     "name": "stdout",
     "output_type": "stream",
     "text": [
      "If you buy 1 ticket[s]: \n",
      " The probability of your win is 0.00001 %. It means you can win once in 13983816 attempts  \n",
      "\n",
      "If you buy 10 ticket[s]: \n",
      " The probability of your win is 0.00007 %. It means you can win once in 1398382 attempts  \n",
      "\n",
      "If you buy 100 ticket[s]: \n",
      " The probability of your win is 0.00072 %. It means you can win once in 139838 attempts  \n",
      "\n",
      "If you buy 10000 ticket[s]: \n",
      " The probability of your win is 0.07151 %. It means you can win once in 1398 attempts  \n",
      "\n",
      "If you buy 1000000 ticket[s]: \n",
      " The probability of your win is 7.15 %. Are you sure you going to spend so much money on lottery tickets? \n",
      "\n",
      "If you buy 6991908 ticket[s]: \n",
      " The probability of your win is 50.00 %. Are you sure you going to spend so much money on lottery tickets? \n",
      "\n",
      "If you buy 13983816 ticket[s]: \n",
      " The probability of your win is 100.00 %. Are you sure you going to spend so much money on lottery tickets? \n",
      "\n",
      "If you buy 100000000 ticket[s]: \n",
      " You can't buy more tickets that are available. \n",
      "\n"
     ]
    }
   ],
   "source": [
    "tickets = [1, 10, 100, 10000, 1000000, 6991908, 13983816, 100000000]\n",
    "for n_tickets in tickets:\n",
    "    print(\n",
    "        f\"If you buy {n_tickets} ticket[s]:\",\n",
    "        \"\\n\",\n",
    "        multi_ticket_probability(n_tickets),\n",
    "        \"\\n\",\n",
    "    )"
   ]
  },
  {
   "cell_type": "markdown",
   "metadata": {},
   "source": [
    "## Calculating probability for 2-5 winning numbers in one ticket"
   ]
  },
  {
   "cell_type": "markdown",
   "metadata": {},
   "source": [
    "For extra context, in most 6/49 lotteries there are smaller prizes if a player's ticket match two, three, four, or five of the six numbers drawn. As a consequence, the users might be interested in knowing the probability of having two, three, four, or five winning numbers. We're only interested in outcomes that match **exactly** five numbers, not **at least** five numbers."
   ]
  },
  {
   "cell_type": "code",
   "execution_count": 13,
   "metadata": {},
   "outputs": [],
   "source": [
    "def probability_less_6(n_winning_numbers):\n",
    "    \"\"\"Takes in an integer between 2 and 5 and prints\n",
    "    information about the chances of winning depending on the value of that integer.\"\"\"\n",
    "    comb_numb = combinations(6, n_winning_numbers)  # how many possible combinations with given quanity of winning numbers out of 6-number ticket exists\n",
    "    n_combinations_remaining = combinations(43, 6 - n_winning_numbers)  # Number of succesful lottery outcomes for the each combination above\n",
    "    total_outcomes = comb_numb * n_combinations_remaining\n",
    "    \n",
    "    prob = total_outcomes / combinations(49, 6)\n",
    "    return f\"The probability of having {n_winning_numbers} winning numbers out of 6 is {prob*100:.3f} %. It means you win once in {round(combinations(49, 6)/total_outcomes)} times\""
   ]
  },
  {
   "cell_type": "code",
   "execution_count": 14,
   "metadata": {},
   "outputs": [
    {
     "name": "stdout",
     "output_type": "stream",
     "text": [
      "The probability of having 2 winning numbers out of 6 is 13.238 %. It means you win once in 8 times\n",
      "The probability of having 3 winning numbers out of 6 is 1.765 %. It means you win once in 57 times\n",
      "The probability of having 4 winning numbers out of 6 is 0.097 %. It means you win once in 1032 times\n",
      "The probability of having 5 winning numbers out of 6 is 0.002 %. It means you win once in 54201 times\n"
     ]
    }
   ],
   "source": [
    "winning_numbers = [2, 3, 4, 5]\n",
    "for number in winning_numbers:\n",
    "    print(probability_less_6(number))"
   ]
  },
  {
   "cell_type": "markdown",
   "metadata": {},
   "source": [
    "## Conclusions"
   ]
  },
  {
   "cell_type": "markdown",
   "metadata": {},
   "source": [
    "To help people dealing with lottery addiction the folllowing functions have been defined during this project:\n",
    "\n",
    "* `one_ticket_probability()` — calculates the probability of winning the big prize with a single ticket.\n",
    "* `check_historical_occurrence()` — checks whether a certain combination has occurred in the Canada lottery data set.\n",
    "* `multi_ticket_probability()` — calculates the winning probability for any number of bought tickets between 1 and 13,983,816.\n",
    "* `probability_less_6()` — calculates the probability of having two, three, four or five winning numbers."
   ]
  }
 ],
 "metadata": {
  "kernelspec": {
   "display_name": "Python 3",
   "language": "python",
   "name": "python3"
  },
  "language_info": {
   "codemirror_mode": {
    "name": "ipython",
    "version": 3
   },
   "file_extension": ".py",
   "mimetype": "text/x-python",
   "name": "python",
   "nbconvert_exporter": "python",
   "pygments_lexer": "ipython3",
   "version": "3.8.5"
  }
 },
 "nbformat": 4,
 "nbformat_minor": 4
}
